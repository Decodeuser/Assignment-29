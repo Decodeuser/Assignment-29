{
 "cells": [
  {
   "cell_type": "markdown",
   "id": "e58ba7b1-5d48-4aac-97ac-642abb0524c1",
   "metadata": {},
   "source": [
    "Q1. Who developed Python Programming Language?\n",
    "Ans: Guido van Rossum."
   ]
  },
  {
   "cell_type": "markdown",
   "id": "0e5a878c-5f35-4259-92fb-004ad59dfb7a",
   "metadata": {},
   "source": [
    "Q2. Which type of Programming does Python support?\n",
    "Ans: Python is an interpreted programming language, supporting object-oriented, structured, and functional programming."
   ]
  },
  {
   "cell_type": "markdown",
   "id": "5eedd0b8-cd48-45fa-b34e-a4c684003d68",
   "metadata": {},
   "source": [
    "Q3. Is Python case sensitive when dealing with identifiers?\n",
    "Ans: Yes, Python is a case-sensitive language, i.e., it treats uppercase and lowercase characters differently. This applies to identifiers too. You must avoid using the same name with different cases while naming identifiers."
   ]
  },
  {
   "cell_type": "markdown",
   "id": "3b05d57d-8051-4bb4-a150-2d825c20b314",
   "metadata": {},
   "source": [
    "Q4. What is the correct extension of the python file?\n",
    "Ans. .py extension"
   ]
  },
  {
   "cell_type": "markdown",
   "id": "0cf3dd95-f893-4f34-9939-8af4e912f216",
   "metadata": {},
   "source": [
    "Q5. Is python code compiled or interpreted?\n",
    "Ans: Python is both compiled as well as an interpreted language, which means when we run a python code, it is first compiled and then interpreted line by line."
   ]
  },
  {
   "cell_type": "markdown",
   "id": "01838c97-565a-407b-b63d-5879f36f9c99",
   "metadata": {},
   "source": [
    "Q6. Name a few blocks of code used to define in Python Language?\n",
    "Ans: Indentation is used to define a block of code in python. Braces {} are used to define a block of code in most programming languages, like C, C++, and Java. But this indentation makes python unique among all programming languages."
   ]
  },
  {
   "cell_type": "markdown",
   "id": "834dd044-d9e5-44aa-a5ca-4eee9728f427",
   "metadata": {},
   "source": [
    "Q7. State a character used to give single-line comments in python?\n",
    "Ans: Python offers a pretty simple and straightforward way to write a comment. We can write a single-line comment by adding a single # character before any statement or line of code.\n",
    "Code:\n",
    "print(\"Hello world\")\n",
    "\n",
    "Output: Hello World"
   ]
  },
  {
   "cell_type": "markdown",
   "id": "4814bba5-24b5-4821-b7f5-1356d244b81c",
   "metadata": {},
   "source": [
    "Q8: Mention functions which can helps us to find the version of python that we are currently working on?\n",
    "Ans: The function sys. version can help us to find the version of python that we are currently working on."
   ]
  },
  {
   "cell_type": "markdown",
   "id": "69a92713-938e-40f0-ad2a-de7a97a4c845",
   "metadata": {},
   "source": [
    "Q9: Python supports the creation of anonymous function at runtime, using a  construct called ?\n",
    "Ans: Python supports the creation of anonymous functions (i.e. functions that are not bound to a name) at runtime, using a construct called lambda."
   ]
  },
  {
   "cell_type": "markdown",
   "id": "7acc0dd6-ed1d-47a4-8786-6c1a9bec1a28",
   "metadata": {},
   "source": [
    "Q10: What does pip stand for python?\n",
    "Ans: preferred installer program."
   ]
  },
  {
   "cell_type": "markdown",
   "id": "d1bb164e-e7f8-46a9-b761-0c4be5eb9ce0",
   "metadata": {},
   "source": [
    "Q11. Mention a few built-in functions in python?\n",
    "Ans: Python Built-in Functions\n",
    "print( ) function.\n",
    "type( ) function.\n",
    "input( ) function.\n",
    "abs( ) function.\n",
    "pow( ) function.\n",
    "dir( ) function.\n",
    "sorted( ) function.\n",
    "max( ) function."
   ]
  },
  {
   "cell_type": "markdown",
   "id": "d2613afb-6750-48ea-b193-ec4bd912e153",
   "metadata": {},
   "source": [
    "Q 12. what is the maximum possible length of an identifier in python?\n",
    "Ans: An identifier can have a maximum length of 79 characters in Python. Python is one of the most popular programming languages."
   ]
  },
  {
   "cell_type": "markdown",
   "id": "1073e335-e4ad-42be-9786-9e5a7d3bcc0e",
   "metadata": {},
   "source": [
    "Q 13. What are the benefits of using Python?\n",
    "Ans: Python is commonly used for developing websites and software, task automation, data analysis, and data visualization. Since it's relatively easy to learn, Python has been adopted by many non-programmers such as accountants and scientists, for a variety of everyday tasks, like organizing finances."
   ]
  },
  {
   "cell_type": "markdown",
   "id": "f8f032b3-fc4c-4c7e-97ac-1e3bf6f98e43",
   "metadata": {},
   "source": [
    "Q 14. How is memory managed in Python?\n",
    "Ans: Python uses a portion of the memory for internal use and non-object memory. Another part of the memory is used for Python object such as int, dict, list, etc. CPython contains the object allocator that allocates memory within the object area. The object allocator gets a call every time the new object needs space."
   ]
  },
  {
   "cell_type": "markdown",
   "id": "85eba38f-106e-47f6-882e-d1aecb131627",
   "metadata": {},
   "source": [
    "Q 15: How to install Python on windows and set path variables?\n",
    "Ans: The complete path of python.exe can be added by:\n",
    "\n",
    "Right-clicking This PC and going to Properties.\n",
    "\n",
    "Clicking on the Advanced system settings in the menu on the left.\n",
    "\n",
    "Clicking on the Environment Variables button on the bottom right.\n",
    "\n",
    "In the System variables section, selecting the Path variable and clicking on Edit. The next screen will show all the directories that are currently a part of the PATH variable.\n",
    "\n",
    "Clicking on New and entering Python’s install directory."
   ]
  },
  {
   "cell_type": "markdown",
   "id": "0ce989e8-3699-4ff5-899a-f4ff48f149cf",
   "metadata": {},
   "source": [
    "Q 16: Is indentation required in python?\n",
    "Ans: Indentation is mandatory in python to define the blocks of statements. It is preferred to use whitespaces instead of tabs to indent in python. Python uses four spaces as default indentation spaces."
   ]
  }
 ],
 "metadata": {
  "kernelspec": {
   "display_name": "Python 3 (ipykernel)",
   "language": "python",
   "name": "python3"
  },
  "language_info": {
   "codemirror_mode": {
    "name": "ipython",
    "version": 3
   },
   "file_extension": ".py",
   "mimetype": "text/x-python",
   "name": "python",
   "nbconvert_exporter": "python",
   "pygments_lexer": "ipython3",
   "version": "3.10.8"
  }
 },
 "nbformat": 4,
 "nbformat_minor": 5
}
